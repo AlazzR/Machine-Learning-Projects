{
 "cells": [
  {
   "cell_type": "markdown",
   "metadata": {},
   "source": [
    "## Multivariate Student-t Distribution\n",
    "### Gamma Function\n",
    "### Gamma Distribution \n",
    "### Derivation for the Student-t Distribution using Gamma conjugate prior for the Gaussian with an unknown precision matrix\n",
    "### Effect of the degrees of freedom on the Mahalanobis Distance \n",
    "### Assuming the degrees of freedom to be known in advance\n",
    "#### Assumption about the Latent Variable and its conditional Distribution\n",
    "#### E-step \n",
    "#### M-step\n",
    "#### Convergence Test\n",
    "\n",
    "### Assuming the degrees of freedom to be unknown in advance\n",
    "#### Assumption about the Latent Variable and its conditional Distribution\n",
    "#### Multicycle ECM\n",
    "##### E-step\n",
    "##### First CM \n",
    "##### Second CM-step\n",
    "#### Convergence Test\n",
    "\n",
    "------------------------\n",
    "I only implemented the model with the Assumption that the degree of freedom is known.\n"
   ]
  },
  {
   "cell_type": "code",
   "execution_count": 2,
   "metadata": {},
   "outputs": [],
   "source": [
    "%matplotlib inline\n",
    "import numpy as np \n",
    "import sklearn.preprocessing\n",
    "import sklearn.datasets\n",
    "import pandas as pd\n",
    "import sklearn.model_selection\n",
    "import numpy.random\n",
    "import math\n",
    "import sklearn.metrics\n",
    "import scipy.stats\n",
    "import scipy.special\n",
    "import matplotlib.pyplot as plt"
   ]
  },
  {
   "cell_type": "code",
   "execution_count": 3,
   "metadata": {},
   "outputs": [],
   "source": [
    "class MultiVariateSt_t_knownDF_Model(object):\n",
    "\n",
    "    def __init__(self, X_train, df):\n",
    "        self.m = X_train.shape[0]\n",
    "        self.n = X_train.shape[1]\n",
    "        if df > 0:\n",
    "            self.df = df\n",
    "        else: \n",
    "            print(\"Wrong df value because if you view gamma function as a factorial, negative value of n wouldn't exist\")\n",
    "            raise Exception(\"wrong df\")\n",
    "        self.X_train = X_train\n",
    "        self.mean  = np.random.randn(self.n)\n",
    "        self.covariance = np.eye(self.n)#Create a full rank covariance matrix\n",
    "        self.latent_u_soft = np.zeros((self.m, 1))\n",
    "    \n",
    "    def Mahalanobis_distance(self, x):\n",
    "        return np.dot(np.transpose(x.reshape(-1, 1) - self.mean.reshape(-1, 1)), np.dot(np.linalg.inv(self.covariance), x.reshape(-1, 1) - self.mean.reshape(-1, 1)))\n",
    "    \n",
    "    def E_step(self):\n",
    "        for i in range(0, self.m):\n",
    "            self.latent_u_soft[i, 0] = (self.df + self.n)/(self.df + self.Mahalanobis_distance(self.X_train[i, :]))\n",
    "    \n",
    "    def M_step(self):\n",
    "        self.mean = np.sum(self.latent_u_soft.reshape(-1, 1) * self.X_train, axis=0)#using broadcasting\n",
    "        self.mean = self.mean/np.sum(self.latent_u_soft)\n",
    "        for i in range(0, self.m):\n",
    "            self.covariance += self.latent_u_soft[i, 0] * np.dot((self.X_train[i, :].reshape(-1, 1) - self.mean.reshape(-1, 1)),(self.X_train[i, :].reshape(-1, 1) - self.mean.reshape(-1, 1)).T)\n",
    "        self.covariance /= self.m\n",
    "\n",
    "    def computing_log_likelihood(self):\n",
    "        #I know you can use pdf method from stats package but I really want to implement everything from scratch\n",
    "        det = np.linalg.det(self.covariance)\n",
    "        temp = 0\n",
    "        for i in range(0, self.m):\n",
    "            #print((1/(1 + (self.Mahalanobis_distance(self.X_train[i, :])/ self.df) )**((self.df+self.n)/2) ))\n",
    "            temp += np.log(\n",
    "                (scipy.special.gamma((self.df + self.n)/2)/scipy.special.gamma(self.df /2) ) * (1/(np.pi * self.df)) * \n",
    "                (1/np.sqrt(det)) * \n",
    "                (1/(1 + (self.Mahalanobis_distance(self.X_train[i, :])/ self.df) )**((self.df+self.n)/2) )\n",
    "\n",
    "            )\n",
    "            #print(temp.shape)\n",
    "        #print(temp)\n",
    "        return temp\n",
    "\n",
    "    def fit(self, max_iteration, eps=1e-5):\n",
    "        convergence_test = True\n",
    "        count = 0\n",
    "        while( (convergence_test == True) and (count != max_iteration)):\n",
    "            self.E_step()#Update the soft latent values            \n",
    "            log_likelihood_t = self.computing_log_likelihood()\n",
    "            self.M_step()#Update the parameters of the condtional distribution of x given u\n",
    "            log_likelihood_t_future = self.computing_log_likelihood()\n",
    "            print(f\"Number of iteration:{count}, max_iteration:{max_iteration}, past:{log_likelihood_t}, future:{log_likelihood_t_future}\")\n",
    "            count = count + 1\n",
    "            if( (log_likelihood_t_future - log_likelihood_t) < eps and (count > 10)):\n",
    "                print(\"We converged to the optimal value for the log-likelihood\")\n",
    "                convergence_test =False #We reached the parameters that maximize the log-likelihood, no adancement in the log-likelihood\n",
    "        \n",
    "        return self.mean, self.covariance\n",
    "\n",
    "    "
   ]
  },
  {
   "cell_type": "code",
   "execution_count": 4,
   "metadata": {},
   "outputs": [
    {
     "output_type": "execute_result",
     "data": {
      "text/plain": "720.0"
     },
     "metadata": {},
     "execution_count": 4
    }
   ],
   "source": [
    "scipy.special.gamma((4+ 10)/2)"
   ]
  },
  {
   "cell_type": "code",
   "execution_count": 5,
   "metadata": {},
   "outputs": [],
   "source": [
    "#Generating random variables from multivariate Student-t distribution \n",
    "###https://stackoverflow.com/questions/29798795/multivariate-student-t-distribution-with-python##\n",
    "def multivariatet(mu,Sigma,dof,m):\n",
    "    '''\n",
    "    Output:\n",
    "    Produce M samples of d-dimensional multivariate t distribution\n",
    "    Input:\n",
    "    mu = mean (d dimensional numpy array or scalar)\n",
    "    Sigma = scale matrix (dxd numpy array)\n",
    "    dof = degrees of freedom\n",
    "    m = # of samples to produce\n",
    "    '''\n",
    "    d = Sigma.shape[1]\n",
    "    g = np.tile(np.random.gamma(dof/2.,2./dof,m),(d,1)).T#From https://en.wikipedia.org/wiki/Multivariate_t-distribution, and the relationship between gamma distribution and chi-squared distribution\n",
    "    #Page 4 from http://users.isy.liu.se/en/rt/roth/student.pdf\n",
    "    Z = np.random.multivariate_normal(np.zeros(d),Sigma,m)\n",
    "    return mu + Z/np.sqrt(g[:])"
   ]
  },
  {
   "cell_type": "code",
   "execution_count": 6,
   "metadata": {
    "tags": []
   },
   "outputs": [
    {
     "output_type": "stream",
     "name": "stdout",
     "text": "10\n(600, 10)\nComparing Means\nx1:[0.49671415]|x2:0.49653380732299374\nx1:[-0.1382643]|x2:-0.16462616398202418\nx1:[0.64768854]|x2:1.0233054732627251\nx1:[1.52302986]|x2:1.5165451451986076\nx1:[-0.23415337]|x2:-0.33881044510445035\nx1:[-0.23413696]|x2:-0.3567652317993122\nx1:[1.57921282]|x2:1.668998442496496\nx1:[0.76743473]|x2:0.8675994665383748\nx1:[-0.46947439]|x2:-0.3331226030370452\nx1:[0.54256004]|x2:0.47848832942143277\nComparing Covariance\nnew row\n x1:[11.38604372  5.28604885  0.8048872   6.05785339 -4.53272108  1.1363972\n  2.71224636  1.89369635  1.56897668  0.37063511]\nx2:[14.31431566  6.77180587  1.03502265  7.15230015 -5.52231816  1.87319955\n  2.55361653  2.50897782  1.54856918  0.55062332]\nnew row\n x1:[ 5.28604885  6.45401237 -0.61353727  3.42509235 -0.44698516  1.10818662\n -0.21978486  0.05845521  0.21673388 -2.96532357]\nx2:[ 6.77180587  7.98633567 -0.39184603  4.12958504 -0.66492877  0.87300653\n -0.48378503  0.48960353  0.3046924  -4.07079212]\nnew row\n x1:[ 8.04887205e-01 -6.13537269e-01  1.27657228e+01 -3.11549520e+00\n -1.65228729e+00 -2.35176727e+00 -2.09032607e+00  1.62104008e+00\n  3.05332554e+00 -5.14846105e-03]\nx2:[ 1.03502265 -0.39184603 14.07550123 -3.34868476 -1.94297431 -2.43111992\n -3.3034554   2.0620251   3.57976821 -0.03487207]\nnew row\n x1:[ 6.05785339  3.42509235 -3.1154952   7.9390205  -3.6736871   0.2805033\n  6.5246914   0.27959107  2.60568482 -1.35302556]\nx2:[ 7.15230015  4.12958504 -3.34868476  9.24621357 -4.31228176  0.29922659\n  7.2675075   0.39561374  3.18828542 -1.75181124]\nnew row\n x1:[-4.53272108 -0.44698516 -1.65228729 -3.6736871   4.87725484  1.27474638\n -3.31853657 -3.37162538 -2.3903277  -1.96967006]\nx2:[-5.52231816 -0.66492877 -1.94297431 -4.31228176  5.87751315  1.20766485\n -3.01813133 -4.14059628 -2.97970507 -2.61406555]\nnew row\n x1:[ 1.1363972   1.10818662 -2.35176727  0.2805033   1.27474638  6.97777364\n -2.29556474 -2.57225756 -0.96733283  2.69262949]\nx2:[ 1.87319955  0.87300653 -2.43111992  0.29922659  1.20766485  9.17462368\n -2.0899808  -3.25255758 -1.33229591  4.21282101]\nnew row\n x1:[ 2.71224636 -0.21978486 -2.09032607  6.5246914  -3.31853657 -2.29556474\n 16.53997749  0.2242787   1.27617518 -1.36327241]\nx2:[ 2.55361653 -0.48378503 -3.3034554   7.2675075  -3.01813133 -2.0899808\n 19.96623017 -0.61912775  0.99452636 -1.74211032]\nnew row\n x1:[ 1.89369635  0.05845521  1.62104008  0.27959107 -3.37162538 -2.57225756\n  0.2242787   5.02410965  0.74196991  1.60702381]\nx2:[ 2.50897782  0.48960353  2.0620251   0.39561374 -4.14059628 -3.25255758\n -0.61912775  6.30973013  1.23113898  1.85710338]\nnew row\n x1:[ 1.56897668  0.21673388  3.05332554  2.60568482 -2.3903277  -0.96733283\n  1.27617518  0.74196991  4.05445735  0.05342332]\nx2:[ 1.54856918  0.3046924   3.57976821  3.18828542 -2.97970507 -1.33229591\n  0.99452636  1.23113898  5.09620148 -0.05280853]\nnew row\n x1:[ 3.70635115e-01 -2.96532357e+00 -5.14846105e-03 -1.35302556e+00\n -1.96967006e+00  2.69262949e+00 -1.36327241e+00  1.60702381e+00\n  5.34233217e-02  6.79063812e+00]\nx2:[ 0.55062332 -4.07079212 -0.03487207 -1.75181124 -2.61406555  4.21282101\n -1.74211032  1.85710338 -0.05280853  9.26881618]\n"
    }
   ],
   "source": [
    "numpy.random.seed(42)\n",
    "\n",
    "n = 10\n",
    "df = 20.5\n",
    "m = 600\n",
    "mean = np.random.randn(n).reshape(-1, 1)\n",
    "Sigma = np.random.randn(n, n) \n",
    "Sigma = np.dot(Sigma, Sigma.T)\n",
    "print(np.linalg.matrix_rank(Sigma))#Need to ensure that the cov is full rank, otherwise the inverse of the covariance wouldn't exist\n",
    "X_train = multivariatet(mean.reshape(1, -1),Sigma,df,m)\n",
    "print(X_train.shape)\n",
    "#Check its mean \n",
    "c1 = np.mean(X_train, axis=0)\n",
    "c2 = (df/(df-2)) * np.cov(X_train.T)\n",
    "print(\"Comparing Means\")\n",
    "[print(f\"x1:{x1}|x2:{x2}\") for x1, x2 in  zip(mean, c1)];\n",
    "print(\"Comparing Covariance\")\n",
    "[print(f\"new row\\n x1:{x1}\\nx2:{x2}\") for x1, x2 in  zip(Sigma, c2)];\n",
    "# I am going to assume the mean and covariance that would be estimated will have the following form\n",
    "mean = c1\n",
    "cov = c2\n"
   ]
  },
  {
   "cell_type": "code",
   "execution_count": 7,
   "metadata": {
    "tags": []
   },
   "outputs": [
    {
     "output_type": "stream",
     "name": "stdout",
     "text": "Number of iteration:0, max_iteration:1000, past:[[-11346.45578732]], future:[[-3558.70662448]]\nNumber of iteration:1, max_iteration:1000, past:[[-3558.70662448]], future:[[-2124.6794185]]\nNumber of iteration:2, max_iteration:1000, past:[[-2124.6794185]], future:[[-1750.19207989]]\nNumber of iteration:3, max_iteration:1000, past:[[-1750.19207989]], future:[[-1678.00709337]]\nNumber of iteration:4, max_iteration:1000, past:[[-1678.00709337]], future:[[-1666.80999937]]\nNumber of iteration:5, max_iteration:1000, past:[[-1666.80999937]], future:[[-1665.29122733]]\nNumber of iteration:6, max_iteration:1000, past:[[-1665.29122733]], future:[[-1665.11497534]]\nNumber of iteration:7, max_iteration:1000, past:[[-1665.11497534]], future:[[-1665.10331835]]\nNumber of iteration:8, max_iteration:1000, past:[[-1665.10331835]], future:[[-1665.10626226]]\nNumber of iteration:9, max_iteration:1000, past:[[-1665.10626226]], future:[[-1665.10831806]]\nNumber of iteration:10, max_iteration:1000, past:[[-1665.10831806]], future:[[-1665.10920371]]\nWe converged to the optimal value for the log-likelihood\n"
    }
   ],
   "source": [
    "model = MultiVariateSt_t_knownDF_Model(X_train, df)\n",
    "estimated_mean, estimated_cov = model.fit(1000)"
   ]
  },
  {
   "cell_type": "code",
   "execution_count": 8,
   "metadata": {
    "tags": []
   },
   "outputs": [
    {
     "output_type": "stream",
     "name": "stdout",
     "text": "Comparing Means\nTrue x1:0.49653380732299374|Est. x2:0.5173505399135495\nTrue x1:-0.16462616398202418|Est. x2:-0.16366947059216902\nTrue x1:1.0233054732627251|Est. x2:0.9652963806413932\nTrue x1:1.5165451451986076|Est. x2:1.5389171681157439\nTrue x1:-0.33881044510445035|Est. x2:-0.32405819258265267\nTrue x1:-0.3567652317993122|Est. x2:-0.32069734485236656\nTrue x1:1.668998442496496|Est. x2:1.6960931674805255\nTrue x1:0.8675994665383748|Est. x2:0.8313201405070806\nTrue x1:-0.3331226030370452|Est. x2:-0.3510018619545503\nTrue x1:0.47848832942143277|Est. x2:0.4742485980072653\nComparing Covariance\nnew row\n True x1:[14.31431566  6.77180587  1.03502265  7.15230015 -5.52231816  1.87319955\n  2.55361653  2.50897782  1.54856918  0.55062332]\nEst. x2:[11.69355181  5.55929965  0.7440489   5.98773359 -4.51021988  1.46369112\n  2.26488902  2.01630838  1.37582206  0.34504247]\nnew row\n True x1:[ 6.77180587  7.98633567 -0.39184603  4.12958504 -0.66492877  0.87300653\n -0.48378503  0.48960353  0.3046924  -4.07079212]\nEst. x2:[ 5.55929965  6.60196942 -0.29300933  3.38344199 -0.54139992  0.66899383\n -0.50075494  0.44096429  0.28469421 -3.38881972]\nnew row\n True x1:[ 1.03502265 -0.39184603 14.07550123 -3.34868476 -1.94297431 -2.43111992\n -3.3034554   2.0620251   3.57976821 -0.03487207]\nEst. x2:[ 0.7440489  -0.29300933 11.53556224 -2.77843879 -1.5048393  -1.9620138\n -2.5784048   1.64390317  2.88834232 -0.10577862]\nnew row\n True x1:[ 7.15230015  4.12958504 -3.34868476  9.24621357 -4.31228176  0.29922659\n  7.2675075   0.39561374  3.18828542 -1.75181124]\nEst. x2:[ 5.98773359  3.38344199 -2.77843879  7.75623963 -3.63542499  0.21332644\n  6.08092038  0.30052532  2.70696962 -1.44161379]\nnew row\n True x1:[-5.52231816 -0.66492877 -1.94297431 -4.31228176  5.87751315  1.20766485\n -3.01813133 -4.14059628 -2.97970507 -2.61406555]\nEst. x2:[-4.51021988 -0.54139992 -1.5048393  -3.63542499  4.83174917  0.98457846\n -2.59385987 -3.34550516 -2.48469507 -2.12069167]\nnew row\n True x1:[ 1.87319955  0.87300653 -2.43111992  0.29922659  1.20766485  9.17462368\n -2.0899808  -3.25255758 -1.33229591  4.21282101]\nEst. x2:[ 1.46369112  0.66899383 -1.9620138   0.21332644  0.98457846  7.44848612\n -1.74748173 -2.61159113 -1.0077136   3.48045191]\nnew row\n True x1:[ 2.55361653 -0.48378503 -3.3034554   7.2675075  -3.01813133 -2.0899808\n 19.96623017 -0.61912775  0.99452636 -1.74211032]\nEst. x2:[ 2.26488902 -0.50075494 -2.5784048   6.08092038 -2.59385987 -1.74748173\n 16.55925237 -0.59393244  0.87446496 -1.41571757]\nnew row\n True x1:[ 2.50897782  0.48960353  2.0620251   0.39561374 -4.14059628 -3.25255758\n -0.61912775  6.30973013  1.23113898  1.85710338]\nEst. x2:[ 2.01630838  0.44096429  1.64390317  0.30052532 -3.34550516 -2.61159113\n -0.59393244  5.13850602  0.97569372  1.50466211]\nnew row\n True x1:[ 1.54856918  0.3046924   3.57976821  3.18828542 -2.97970507 -1.33229591\n  0.99452636  1.23113898  5.09620148 -0.05280853]\nEst. x2:[ 1.37582206  0.28469421  2.88834232  2.70696962 -2.48469507 -1.0077136\n  0.87446496  0.97569372  4.18276337  0.00928783]\nnew row\n True x1:[ 0.55062332 -4.07079212 -0.03487207 -1.75181124 -2.61406555  4.21282101\n -1.74211032  1.85710338 -0.05280853  9.26881618]\nEst. x2:[ 0.34504247 -3.38881972 -0.10577862 -1.44161379 -2.12069167  3.48045191\n -1.41571757  1.50466211  0.00928783  7.66111359]\n"
    }
   ],
   "source": [
    "print(\"Comparing Means\")\n",
    "[print(f\"True x1:{x1}|Est. x2:{x2}\") for x1, x2 in  zip(mean, estimated_mean)];\n",
    "print(\"Comparing Covariance\")\n",
    "[print(f\"new row\\n True x1:{x1}\\nEst. x2:{x2}\") for x1, x2 in  zip(cov, estimated_cov)];"
   ]
  },
  {
   "cell_type": "code",
   "execution_count": 9,
   "metadata": {},
   "outputs": [
    {
     "output_type": "execute_result",
     "data": {
      "text/plain": "array([[ 1,  2,  3],\n       [ 8, 10, 12]])"
     },
     "metadata": {},
     "execution_count": 9
    }
   ],
   "source": [
    "a = np.array([[1, 2, 3], [4, 5, 6]])\n",
    "b = np.array([1, 2])\n",
    "b.reshape(-1, 1) *a"
   ]
  },
  {
   "cell_type": "code",
   "execution_count": 29,
   "metadata": {
    "tags": []
   },
   "outputs": [
    {
     "output_type": "display_data",
     "data": {
      "text/plain": "<Figure size 432x288 with 1 Axes>",
      "image/svg+xml": "<?xml version=\"1.0\" encoding=\"utf-8\" standalone=\"no\"?>\r\n<!DOCTYPE svg PUBLIC \"-//W3C//DTD SVG 1.1//EN\"\r\n  \"http://www.w3.org/Graphics/SVG/1.1/DTD/svg11.dtd\">\r\n<!-- Created with matplotlib (https://matplotlib.org/) -->\r\n<svg height=\"248.518125pt\" version=\"1.1\" viewBox=\"0 0 372.103125 248.518125\" width=\"372.103125pt\" xmlns=\"http://www.w3.org/2000/svg\" xmlns:xlink=\"http://www.w3.org/1999/xlink\">\r\n <defs>\r\n  <style type=\"text/css\">\r\n*{stroke-linecap:butt;stroke-linejoin:round;}\r\n  </style>\r\n </defs>\r\n <g id=\"figure_1\">\r\n  <g id=\"patch_1\">\r\n   <path d=\"M 0 248.518125 \r\nL 372.103125 248.518125 \r\nL 372.103125 0 \r\nL 0 0 \r\nz\r\n\" style=\"fill:none;\"/>\r\n  </g>\r\n  <g id=\"axes_1\">\r\n   <g id=\"patch_2\">\r\n    <path d=\"M 30.103125 224.64 \r\nL 364.903125 224.64 \r\nL 364.903125 7.2 \r\nL 30.103125 7.2 \r\nz\r\n\" style=\"fill:#ffffff;\"/>\r\n   </g>\r\n   <g id=\"matplotlib.axis_1\">\r\n    <g id=\"xtick_1\">\r\n     <g id=\"line2d_1\">\r\n      <defs>\r\n       <path d=\"M 0 0 \r\nL 0 3.5 \r\n\" id=\"m2c14cd71c9\" style=\"stroke:#000000;stroke-width:0.8;\"/>\r\n      </defs>\r\n      <g>\r\n       <use style=\"stroke:#000000;stroke-width:0.8;\" x=\"45.321307\" xlink:href=\"#m2c14cd71c9\" y=\"224.64\"/>\r\n      </g>\r\n     </g>\r\n     <g id=\"text_1\">\r\n      <!-- −10.0 -->\r\n      <defs>\r\n       <path d=\"M 10.59375 35.5 \r\nL 73.1875 35.5 \r\nL 73.1875 27.203125 \r\nL 10.59375 27.203125 \r\nz\r\n\" id=\"DejaVuSans-8722\"/>\r\n       <path d=\"M 12.40625 8.296875 \r\nL 28.515625 8.296875 \r\nL 28.515625 63.921875 \r\nL 10.984375 60.40625 \r\nL 10.984375 69.390625 \r\nL 28.421875 72.90625 \r\nL 38.28125 72.90625 \r\nL 38.28125 8.296875 \r\nL 54.390625 8.296875 \r\nL 54.390625 0 \r\nL 12.40625 0 \r\nz\r\n\" id=\"DejaVuSans-49\"/>\r\n       <path d=\"M 31.78125 66.40625 \r\nQ 24.171875 66.40625 20.328125 58.90625 \r\nQ 16.5 51.421875 16.5 36.375 \r\nQ 16.5 21.390625 20.328125 13.890625 \r\nQ 24.171875 6.390625 31.78125 6.390625 \r\nQ 39.453125 6.390625 43.28125 13.890625 \r\nQ 47.125 21.390625 47.125 36.375 \r\nQ 47.125 51.421875 43.28125 58.90625 \r\nQ 39.453125 66.40625 31.78125 66.40625 \r\nz\r\nM 31.78125 74.21875 \r\nQ 44.046875 74.21875 50.515625 64.515625 \r\nQ 56.984375 54.828125 56.984375 36.375 \r\nQ 56.984375 17.96875 50.515625 8.265625 \r\nQ 44.046875 -1.421875 31.78125 -1.421875 \r\nQ 19.53125 -1.421875 13.0625 8.265625 \r\nQ 6.59375 17.96875 6.59375 36.375 \r\nQ 6.59375 54.828125 13.0625 64.515625 \r\nQ 19.53125 74.21875 31.78125 74.21875 \r\nz\r\n\" id=\"DejaVuSans-48\"/>\r\n       <path d=\"M 10.6875 12.40625 \r\nL 21 12.40625 \r\nL 21 0 \r\nL 10.6875 0 \r\nz\r\n\" id=\"DejaVuSans-46\"/>\r\n      </defs>\r\n      <g transform=\"translate(29.998651 239.238437)scale(0.1 -0.1)\">\r\n       <use xlink:href=\"#DejaVuSans-8722\"/>\r\n       <use x=\"83.789062\" xlink:href=\"#DejaVuSans-49\"/>\r\n       <use x=\"147.412109\" xlink:href=\"#DejaVuSans-48\"/>\r\n       <use x=\"211.035156\" xlink:href=\"#DejaVuSans-46\"/>\r\n       <use x=\"242.822266\" xlink:href=\"#DejaVuSans-48\"/>\r\n      </g>\r\n     </g>\r\n    </g>\r\n    <g id=\"xtick_2\">\r\n     <g id=\"line2d_2\">\r\n      <g>\r\n       <use style=\"stroke:#000000;stroke-width:0.8;\" x=\"83.366761\" xlink:href=\"#m2c14cd71c9\" y=\"224.64\"/>\r\n      </g>\r\n     </g>\r\n     <g id=\"text_2\">\r\n      <!-- −7.5 -->\r\n      <defs>\r\n       <path d=\"M 8.203125 72.90625 \r\nL 55.078125 72.90625 \r\nL 55.078125 68.703125 \r\nL 28.609375 0 \r\nL 18.3125 0 \r\nL 43.21875 64.59375 \r\nL 8.203125 64.59375 \r\nz\r\n\" id=\"DejaVuSans-55\"/>\r\n       <path d=\"M 10.796875 72.90625 \r\nL 49.515625 72.90625 \r\nL 49.515625 64.59375 \r\nL 19.828125 64.59375 \r\nL 19.828125 46.734375 \r\nQ 21.96875 47.46875 24.109375 47.828125 \r\nQ 26.265625 48.1875 28.421875 48.1875 \r\nQ 40.625 48.1875 47.75 41.5 \r\nQ 54.890625 34.8125 54.890625 23.390625 \r\nQ 54.890625 11.625 47.5625 5.09375 \r\nQ 40.234375 -1.421875 26.90625 -1.421875 \r\nQ 22.3125 -1.421875 17.546875 -0.640625 \r\nQ 12.796875 0.140625 7.71875 1.703125 \r\nL 7.71875 11.625 \r\nQ 12.109375 9.234375 16.796875 8.0625 \r\nQ 21.484375 6.890625 26.703125 6.890625 \r\nQ 35.15625 6.890625 40.078125 11.328125 \r\nQ 45.015625 15.765625 45.015625 23.390625 \r\nQ 45.015625 31 40.078125 35.4375 \r\nQ 35.15625 39.890625 26.703125 39.890625 \r\nQ 22.75 39.890625 18.8125 39.015625 \r\nQ 14.890625 38.140625 10.796875 36.28125 \r\nz\r\n\" id=\"DejaVuSans-53\"/>\r\n      </defs>\r\n      <g transform=\"translate(71.225355 239.238437)scale(0.1 -0.1)\">\r\n       <use xlink:href=\"#DejaVuSans-8722\"/>\r\n       <use x=\"83.789062\" xlink:href=\"#DejaVuSans-55\"/>\r\n       <use x=\"147.412109\" xlink:href=\"#DejaVuSans-46\"/>\r\n       <use x=\"179.199219\" xlink:href=\"#DejaVuSans-53\"/>\r\n      </g>\r\n     </g>\r\n    </g>\r\n    <g id=\"xtick_3\">\r\n     <g id=\"line2d_3\">\r\n      <g>\r\n       <use style=\"stroke:#000000;stroke-width:0.8;\" x=\"121.412216\" xlink:href=\"#m2c14cd71c9\" y=\"224.64\"/>\r\n      </g>\r\n     </g>\r\n     <g id=\"text_3\">\r\n      <!-- −5.0 -->\r\n      <g transform=\"translate(109.27081 239.238437)scale(0.1 -0.1)\">\r\n       <use xlink:href=\"#DejaVuSans-8722\"/>\r\n       <use x=\"83.789062\" xlink:href=\"#DejaVuSans-53\"/>\r\n       <use x=\"147.412109\" xlink:href=\"#DejaVuSans-46\"/>\r\n       <use x=\"179.199219\" xlink:href=\"#DejaVuSans-48\"/>\r\n      </g>\r\n     </g>\r\n    </g>\r\n    <g id=\"xtick_4\">\r\n     <g id=\"line2d_4\">\r\n      <g>\r\n       <use style=\"stroke:#000000;stroke-width:0.8;\" x=\"159.45767\" xlink:href=\"#m2c14cd71c9\" y=\"224.64\"/>\r\n      </g>\r\n     </g>\r\n     <g id=\"text_4\">\r\n      <!-- −2.5 -->\r\n      <defs>\r\n       <path d=\"M 19.1875 8.296875 \r\nL 53.609375 8.296875 \r\nL 53.609375 0 \r\nL 7.328125 0 \r\nL 7.328125 8.296875 \r\nQ 12.9375 14.109375 22.625 23.890625 \r\nQ 32.328125 33.6875 34.8125 36.53125 \r\nQ 39.546875 41.84375 41.421875 45.53125 \r\nQ 43.3125 49.21875 43.3125 52.78125 \r\nQ 43.3125 58.59375 39.234375 62.25 \r\nQ 35.15625 65.921875 28.609375 65.921875 \r\nQ 23.96875 65.921875 18.8125 64.3125 \r\nQ 13.671875 62.703125 7.8125 59.421875 \r\nL 7.8125 69.390625 \r\nQ 13.765625 71.78125 18.9375 73 \r\nQ 24.125 74.21875 28.421875 74.21875 \r\nQ 39.75 74.21875 46.484375 68.546875 \r\nQ 53.21875 62.890625 53.21875 53.421875 \r\nQ 53.21875 48.921875 51.53125 44.890625 \r\nQ 49.859375 40.875 45.40625 35.40625 \r\nQ 44.1875 33.984375 37.640625 27.21875 \r\nQ 31.109375 20.453125 19.1875 8.296875 \r\nz\r\n\" id=\"DejaVuSans-50\"/>\r\n      </defs>\r\n      <g transform=\"translate(147.316264 239.238437)scale(0.1 -0.1)\">\r\n       <use xlink:href=\"#DejaVuSans-8722\"/>\r\n       <use x=\"83.789062\" xlink:href=\"#DejaVuSans-50\"/>\r\n       <use x=\"147.412109\" xlink:href=\"#DejaVuSans-46\"/>\r\n       <use x=\"179.199219\" xlink:href=\"#DejaVuSans-53\"/>\r\n      </g>\r\n     </g>\r\n    </g>\r\n    <g id=\"xtick_5\">\r\n     <g id=\"line2d_5\">\r\n      <g>\r\n       <use style=\"stroke:#000000;stroke-width:0.8;\" x=\"197.503125\" xlink:href=\"#m2c14cd71c9\" y=\"224.64\"/>\r\n      </g>\r\n     </g>\r\n     <g id=\"text_5\">\r\n      <!-- 0.0 -->\r\n      <g transform=\"translate(189.551563 239.238437)scale(0.1 -0.1)\">\r\n       <use xlink:href=\"#DejaVuSans-48\"/>\r\n       <use x=\"63.623047\" xlink:href=\"#DejaVuSans-46\"/>\r\n       <use x=\"95.410156\" xlink:href=\"#DejaVuSans-48\"/>\r\n      </g>\r\n     </g>\r\n    </g>\r\n    <g id=\"xtick_6\">\r\n     <g id=\"line2d_6\">\r\n      <g>\r\n       <use style=\"stroke:#000000;stroke-width:0.8;\" x=\"235.54858\" xlink:href=\"#m2c14cd71c9\" y=\"224.64\"/>\r\n      </g>\r\n     </g>\r\n     <g id=\"text_6\">\r\n      <!-- 2.5 -->\r\n      <g transform=\"translate(227.597017 239.238437)scale(0.1 -0.1)\">\r\n       <use xlink:href=\"#DejaVuSans-50\"/>\r\n       <use x=\"63.623047\" xlink:href=\"#DejaVuSans-46\"/>\r\n       <use x=\"95.410156\" xlink:href=\"#DejaVuSans-53\"/>\r\n      </g>\r\n     </g>\r\n    </g>\r\n    <g id=\"xtick_7\">\r\n     <g id=\"line2d_7\">\r\n      <g>\r\n       <use style=\"stroke:#000000;stroke-width:0.8;\" x=\"273.594034\" xlink:href=\"#m2c14cd71c9\" y=\"224.64\"/>\r\n      </g>\r\n     </g>\r\n     <g id=\"text_7\">\r\n      <!-- 5.0 -->\r\n      <g transform=\"translate(265.642472 239.238437)scale(0.1 -0.1)\">\r\n       <use xlink:href=\"#DejaVuSans-53\"/>\r\n       <use x=\"63.623047\" xlink:href=\"#DejaVuSans-46\"/>\r\n       <use x=\"95.410156\" xlink:href=\"#DejaVuSans-48\"/>\r\n      </g>\r\n     </g>\r\n    </g>\r\n    <g id=\"xtick_8\">\r\n     <g id=\"line2d_8\">\r\n      <g>\r\n       <use style=\"stroke:#000000;stroke-width:0.8;\" x=\"311.639489\" xlink:href=\"#m2c14cd71c9\" y=\"224.64\"/>\r\n      </g>\r\n     </g>\r\n     <g id=\"text_8\">\r\n      <!-- 7.5 -->\r\n      <g transform=\"translate(303.687926 239.238437)scale(0.1 -0.1)\">\r\n       <use xlink:href=\"#DejaVuSans-55\"/>\r\n       <use x=\"63.623047\" xlink:href=\"#DejaVuSans-46\"/>\r\n       <use x=\"95.410156\" xlink:href=\"#DejaVuSans-53\"/>\r\n      </g>\r\n     </g>\r\n    </g>\r\n    <g id=\"xtick_9\">\r\n     <g id=\"line2d_9\">\r\n      <g>\r\n       <use style=\"stroke:#000000;stroke-width:0.8;\" x=\"349.684943\" xlink:href=\"#m2c14cd71c9\" y=\"224.64\"/>\r\n      </g>\r\n     </g>\r\n     <g id=\"text_9\">\r\n      <!-- 10.0 -->\r\n      <g transform=\"translate(338.552131 239.238437)scale(0.1 -0.1)\">\r\n       <use xlink:href=\"#DejaVuSans-49\"/>\r\n       <use x=\"63.623047\" xlink:href=\"#DejaVuSans-48\"/>\r\n       <use x=\"127.246094\" xlink:href=\"#DejaVuSans-46\"/>\r\n       <use x=\"159.033203\" xlink:href=\"#DejaVuSans-48\"/>\r\n      </g>\r\n     </g>\r\n    </g>\r\n   </g>\r\n   <g id=\"matplotlib.axis_2\">\r\n    <g id=\"ytick_1\">\r\n     <g id=\"line2d_10\">\r\n      <defs>\r\n       <path d=\"M 0 0 \r\nL -3.5 0 \r\n\" id=\"mebb13b0e63\" style=\"stroke:#000000;stroke-width:0.8;\"/>\r\n      </defs>\r\n      <g>\r\n       <use style=\"stroke:#000000;stroke-width:0.8;\" x=\"30.103125\" xlink:href=\"#mebb13b0e63\" y=\"214.756364\"/>\r\n      </g>\r\n     </g>\r\n     <g id=\"text_10\">\r\n      <!-- 0.0 -->\r\n      <g transform=\"translate(7.2 218.555582)scale(0.1 -0.1)\">\r\n       <use xlink:href=\"#DejaVuSans-48\"/>\r\n       <use x=\"63.623047\" xlink:href=\"#DejaVuSans-46\"/>\r\n       <use x=\"95.410156\" xlink:href=\"#DejaVuSans-48\"/>\r\n      </g>\r\n     </g>\r\n    </g>\r\n    <g id=\"ytick_2\">\r\n     <g id=\"line2d_11\">\r\n      <g>\r\n       <use style=\"stroke:#000000;stroke-width:0.8;\" x=\"30.103125\" xlink:href=\"#mebb13b0e63\" y=\"189.656086\"/>\r\n      </g>\r\n     </g>\r\n     <g id=\"text_11\">\r\n      <!-- 0.1 -->\r\n      <g transform=\"translate(7.2 193.455304)scale(0.1 -0.1)\">\r\n       <use xlink:href=\"#DejaVuSans-48\"/>\r\n       <use x=\"63.623047\" xlink:href=\"#DejaVuSans-46\"/>\r\n       <use x=\"95.410156\" xlink:href=\"#DejaVuSans-49\"/>\r\n      </g>\r\n     </g>\r\n    </g>\r\n    <g id=\"ytick_3\">\r\n     <g id=\"line2d_12\">\r\n      <g>\r\n       <use style=\"stroke:#000000;stroke-width:0.8;\" x=\"30.103125\" xlink:href=\"#mebb13b0e63\" y=\"164.555808\"/>\r\n      </g>\r\n     </g>\r\n     <g id=\"text_12\">\r\n      <!-- 0.2 -->\r\n      <g transform=\"translate(7.2 168.355026)scale(0.1 -0.1)\">\r\n       <use xlink:href=\"#DejaVuSans-48\"/>\r\n       <use x=\"63.623047\" xlink:href=\"#DejaVuSans-46\"/>\r\n       <use x=\"95.410156\" xlink:href=\"#DejaVuSans-50\"/>\r\n      </g>\r\n     </g>\r\n    </g>\r\n    <g id=\"ytick_4\">\r\n     <g id=\"line2d_13\">\r\n      <g>\r\n       <use style=\"stroke:#000000;stroke-width:0.8;\" x=\"30.103125\" xlink:href=\"#mebb13b0e63\" y=\"139.45553\"/>\r\n      </g>\r\n     </g>\r\n     <g id=\"text_13\">\r\n      <!-- 0.3 -->\r\n      <defs>\r\n       <path d=\"M 40.578125 39.3125 \r\nQ 47.65625 37.796875 51.625 33 \r\nQ 55.609375 28.21875 55.609375 21.1875 \r\nQ 55.609375 10.40625 48.1875 4.484375 \r\nQ 40.765625 -1.421875 27.09375 -1.421875 \r\nQ 22.515625 -1.421875 17.65625 -0.515625 \r\nQ 12.796875 0.390625 7.625 2.203125 \r\nL 7.625 11.71875 \r\nQ 11.71875 9.328125 16.59375 8.109375 \r\nQ 21.484375 6.890625 26.8125 6.890625 \r\nQ 36.078125 6.890625 40.9375 10.546875 \r\nQ 45.796875 14.203125 45.796875 21.1875 \r\nQ 45.796875 27.640625 41.28125 31.265625 \r\nQ 36.765625 34.90625 28.71875 34.90625 \r\nL 20.21875 34.90625 \r\nL 20.21875 43.015625 \r\nL 29.109375 43.015625 \r\nQ 36.375 43.015625 40.234375 45.921875 \r\nQ 44.09375 48.828125 44.09375 54.296875 \r\nQ 44.09375 59.90625 40.109375 62.90625 \r\nQ 36.140625 65.921875 28.71875 65.921875 \r\nQ 24.65625 65.921875 20.015625 65.03125 \r\nQ 15.375 64.15625 9.8125 62.3125 \r\nL 9.8125 71.09375 \r\nQ 15.4375 72.65625 20.34375 73.4375 \r\nQ 25.25 74.21875 29.59375 74.21875 \r\nQ 40.828125 74.21875 47.359375 69.109375 \r\nQ 53.90625 64.015625 53.90625 55.328125 \r\nQ 53.90625 49.265625 50.4375 45.09375 \r\nQ 46.96875 40.921875 40.578125 39.3125 \r\nz\r\n\" id=\"DejaVuSans-51\"/>\r\n      </defs>\r\n      <g transform=\"translate(7.2 143.254748)scale(0.1 -0.1)\">\r\n       <use xlink:href=\"#DejaVuSans-48\"/>\r\n       <use x=\"63.623047\" xlink:href=\"#DejaVuSans-46\"/>\r\n       <use x=\"95.410156\" xlink:href=\"#DejaVuSans-51\"/>\r\n      </g>\r\n     </g>\r\n    </g>\r\n    <g id=\"ytick_5\">\r\n     <g id=\"line2d_14\">\r\n      <g>\r\n       <use style=\"stroke:#000000;stroke-width:0.8;\" x=\"30.103125\" xlink:href=\"#mebb13b0e63\" y=\"114.355252\"/>\r\n      </g>\r\n     </g>\r\n     <g id=\"text_14\">\r\n      <!-- 0.4 -->\r\n      <defs>\r\n       <path d=\"M 37.796875 64.3125 \r\nL 12.890625 25.390625 \r\nL 37.796875 25.390625 \r\nz\r\nM 35.203125 72.90625 \r\nL 47.609375 72.90625 \r\nL 47.609375 25.390625 \r\nL 58.015625 25.390625 \r\nL 58.015625 17.1875 \r\nL 47.609375 17.1875 \r\nL 47.609375 0 \r\nL 37.796875 0 \r\nL 37.796875 17.1875 \r\nL 4.890625 17.1875 \r\nL 4.890625 26.703125 \r\nz\r\n\" id=\"DejaVuSans-52\"/>\r\n      </defs>\r\n      <g transform=\"translate(7.2 118.15447)scale(0.1 -0.1)\">\r\n       <use xlink:href=\"#DejaVuSans-48\"/>\r\n       <use x=\"63.623047\" xlink:href=\"#DejaVuSans-46\"/>\r\n       <use x=\"95.410156\" xlink:href=\"#DejaVuSans-52\"/>\r\n      </g>\r\n     </g>\r\n    </g>\r\n    <g id=\"ytick_6\">\r\n     <g id=\"line2d_15\">\r\n      <g>\r\n       <use style=\"stroke:#000000;stroke-width:0.8;\" x=\"30.103125\" xlink:href=\"#mebb13b0e63\" y=\"89.254974\"/>\r\n      </g>\r\n     </g>\r\n     <g id=\"text_15\">\r\n      <!-- 0.5 -->\r\n      <g transform=\"translate(7.2 93.054192)scale(0.1 -0.1)\">\r\n       <use xlink:href=\"#DejaVuSans-48\"/>\r\n       <use x=\"63.623047\" xlink:href=\"#DejaVuSans-46\"/>\r\n       <use x=\"95.410156\" xlink:href=\"#DejaVuSans-53\"/>\r\n      </g>\r\n     </g>\r\n    </g>\r\n    <g id=\"ytick_7\">\r\n     <g id=\"line2d_16\">\r\n      <g>\r\n       <use style=\"stroke:#000000;stroke-width:0.8;\" x=\"30.103125\" xlink:href=\"#mebb13b0e63\" y=\"64.154696\"/>\r\n      </g>\r\n     </g>\r\n     <g id=\"text_16\">\r\n      <!-- 0.6 -->\r\n      <defs>\r\n       <path d=\"M 33.015625 40.375 \r\nQ 26.375 40.375 22.484375 35.828125 \r\nQ 18.609375 31.296875 18.609375 23.390625 \r\nQ 18.609375 15.53125 22.484375 10.953125 \r\nQ 26.375 6.390625 33.015625 6.390625 \r\nQ 39.65625 6.390625 43.53125 10.953125 \r\nQ 47.40625 15.53125 47.40625 23.390625 \r\nQ 47.40625 31.296875 43.53125 35.828125 \r\nQ 39.65625 40.375 33.015625 40.375 \r\nz\r\nM 52.59375 71.296875 \r\nL 52.59375 62.3125 \r\nQ 48.875 64.0625 45.09375 64.984375 \r\nQ 41.3125 65.921875 37.59375 65.921875 \r\nQ 27.828125 65.921875 22.671875 59.328125 \r\nQ 17.53125 52.734375 16.796875 39.40625 \r\nQ 19.671875 43.65625 24.015625 45.921875 \r\nQ 28.375 48.1875 33.59375 48.1875 \r\nQ 44.578125 48.1875 50.953125 41.515625 \r\nQ 57.328125 34.859375 57.328125 23.390625 \r\nQ 57.328125 12.15625 50.6875 5.359375 \r\nQ 44.046875 -1.421875 33.015625 -1.421875 \r\nQ 20.359375 -1.421875 13.671875 8.265625 \r\nQ 6.984375 17.96875 6.984375 36.375 \r\nQ 6.984375 53.65625 15.1875 63.9375 \r\nQ 23.390625 74.21875 37.203125 74.21875 \r\nQ 40.921875 74.21875 44.703125 73.484375 \r\nQ 48.484375 72.75 52.59375 71.296875 \r\nz\r\n\" id=\"DejaVuSans-54\"/>\r\n      </defs>\r\n      <g transform=\"translate(7.2 67.953914)scale(0.1 -0.1)\">\r\n       <use xlink:href=\"#DejaVuSans-48\"/>\r\n       <use x=\"63.623047\" xlink:href=\"#DejaVuSans-46\"/>\r\n       <use x=\"95.410156\" xlink:href=\"#DejaVuSans-54\"/>\r\n      </g>\r\n     </g>\r\n    </g>\r\n    <g id=\"ytick_8\">\r\n     <g id=\"line2d_17\">\r\n      <g>\r\n       <use style=\"stroke:#000000;stroke-width:0.8;\" x=\"30.103125\" xlink:href=\"#mebb13b0e63\" y=\"39.054418\"/>\r\n      </g>\r\n     </g>\r\n     <g id=\"text_17\">\r\n      <!-- 0.7 -->\r\n      <g transform=\"translate(7.2 42.853636)scale(0.1 -0.1)\">\r\n       <use xlink:href=\"#DejaVuSans-48\"/>\r\n       <use x=\"63.623047\" xlink:href=\"#DejaVuSans-46\"/>\r\n       <use x=\"95.410156\" xlink:href=\"#DejaVuSans-55\"/>\r\n      </g>\r\n     </g>\r\n    </g>\r\n    <g id=\"ytick_9\">\r\n     <g id=\"line2d_18\">\r\n      <g>\r\n       <use style=\"stroke:#000000;stroke-width:0.8;\" x=\"30.103125\" xlink:href=\"#mebb13b0e63\" y=\"13.95414\"/>\r\n      </g>\r\n     </g>\r\n     <g id=\"text_18\">\r\n      <!-- 0.8 -->\r\n      <defs>\r\n       <path d=\"M 31.78125 34.625 \r\nQ 24.75 34.625 20.71875 30.859375 \r\nQ 16.703125 27.09375 16.703125 20.515625 \r\nQ 16.703125 13.921875 20.71875 10.15625 \r\nQ 24.75 6.390625 31.78125 6.390625 \r\nQ 38.8125 6.390625 42.859375 10.171875 \r\nQ 46.921875 13.96875 46.921875 20.515625 \r\nQ 46.921875 27.09375 42.890625 30.859375 \r\nQ 38.875 34.625 31.78125 34.625 \r\nz\r\nM 21.921875 38.8125 \r\nQ 15.578125 40.375 12.03125 44.71875 \r\nQ 8.5 49.078125 8.5 55.328125 \r\nQ 8.5 64.0625 14.71875 69.140625 \r\nQ 20.953125 74.21875 31.78125 74.21875 \r\nQ 42.671875 74.21875 48.875 69.140625 \r\nQ 55.078125 64.0625 55.078125 55.328125 \r\nQ 55.078125 49.078125 51.53125 44.71875 \r\nQ 48 40.375 41.703125 38.8125 \r\nQ 48.828125 37.15625 52.796875 32.3125 \r\nQ 56.78125 27.484375 56.78125 20.515625 \r\nQ 56.78125 9.90625 50.3125 4.234375 \r\nQ 43.84375 -1.421875 31.78125 -1.421875 \r\nQ 19.734375 -1.421875 13.25 4.234375 \r\nQ 6.78125 9.90625 6.78125 20.515625 \r\nQ 6.78125 27.484375 10.78125 32.3125 \r\nQ 14.796875 37.15625 21.921875 38.8125 \r\nz\r\nM 18.3125 54.390625 \r\nQ 18.3125 48.734375 21.84375 45.5625 \r\nQ 25.390625 42.390625 31.78125 42.390625 \r\nQ 38.140625 42.390625 41.71875 45.5625 \r\nQ 45.3125 48.734375 45.3125 54.390625 \r\nQ 45.3125 60.0625 41.71875 63.234375 \r\nQ 38.140625 66.40625 31.78125 66.40625 \r\nQ 25.390625 66.40625 21.84375 63.234375 \r\nQ 18.3125 60.0625 18.3125 54.390625 \r\nz\r\n\" id=\"DejaVuSans-56\"/>\r\n      </defs>\r\n      <g transform=\"translate(7.2 17.753358)scale(0.1 -0.1)\">\r\n       <use xlink:href=\"#DejaVuSans-48\"/>\r\n       <use x=\"63.623047\" xlink:href=\"#DejaVuSans-46\"/>\r\n       <use x=\"95.410156\" xlink:href=\"#DejaVuSans-56\"/>\r\n      </g>\r\n     </g>\r\n    </g>\r\n   </g>\r\n   <g id=\"line2d_19\">\r\n    <path clip-path=\"url(#p945556987d)\" d=\"M 45.321307 214.756364 \r\nL 48.395687 214.756364 \r\nL 51.470067 214.756364 \r\nL 54.544447 214.756364 \r\nL 57.618827 214.756364 \r\nL 60.693208 214.756364 \r\nL 63.767588 214.756364 \r\nL 66.841968 214.756364 \r\nL 69.916348 214.756364 \r\nL 72.990728 214.756364 \r\nL 76.065108 214.756364 \r\nL 79.139489 214.756364 \r\nL 82.213869 214.756364 \r\nL 85.288249 214.756364 \r\nL 88.362629 214.756364 \r\nL 91.437009 214.756364 \r\nL 94.511389 214.756364 \r\nL 97.58577 214.756364 \r\nL 100.66015 214.756364 \r\nL 103.73453 214.756364 \r\nL 106.80891 214.756364 \r\nL 109.88329 214.756364 \r\nL 112.95767 214.756364 \r\nL 116.032051 214.756364 \r\nL 119.106431 214.756364 \r\nL 122.180811 214.756364 \r\nL 125.255191 214.756364 \r\nL 128.329571 214.756364 \r\nL 131.403951 214.756364 \r\nL 134.478332 214.756364 \r\nL 137.552712 214.756364 \r\nL 140.627092 214.756364 \r\nL 143.701472 214.756364 \r\nL 146.775852 214.756364 \r\nL 149.850232 214.756364 \r\nL 152.924613 214.756364 \r\nL 155.998993 214.756364 \r\nL 159.073373 214.756364 \r\nL 162.147753 214.756364 \r\nL 165.222133 214.756364 \r\nL 168.296513 214.756364 \r\nL 171.370894 214.756364 \r\nL 174.445274 214.756364 \r\nL 177.519654 214.756364 \r\nL 180.594034 214.756363 \r\nL 183.668414 214.756355 \r\nL 186.742794 214.756277 \r\nL 189.817175 214.755654 \r\nL 192.891555 214.751413 \r\nL 195.965935 214.727024 \r\nL 199.040315 214.608676 \r\nL 202.114695 214.124916 \r\nL 205.189075 212.463218 \r\nL 208.263456 207.68297 \r\nL 211.337836 196.224208 \r\nL 214.412216 173.515659 \r\nL 217.486596 136.80419 \r\nL 220.560976 89.605921 \r\nL 223.635356 44.093682 \r\nL 226.709737 17.083636 \r\nL 229.784117 20.28442 \r\nL 232.858497 52.25045 \r\nL 235.932877 99.415447 \r\nL 239.007257 145.221976 \r\nL 242.081637 179.150798 \r\nL 245.156018 199.270403 \r\nL 248.230398 209.035515 \r\nL 251.304778 212.96128 \r\nL 254.379158 214.277942 \r\nL 257.453538 214.648061 \r\nL 260.527918 214.735539 \r\nL 263.602299 214.752963 \r\nL 266.676679 214.755892 \r\nL 269.751059 214.756308 \r\nL 272.825439 214.756358 \r\nL 275.899819 214.756363 \r\nL 278.974199 214.756364 \r\nL 282.04858 214.756364 \r\nL 285.12296 214.756364 \r\nL 288.19734 214.756364 \r\nL 291.27172 214.756364 \r\nL 294.3461 214.756364 \r\nL 297.42048 214.756364 \r\nL 300.494861 214.756364 \r\nL 303.569241 214.756364 \r\nL 306.643621 214.756364 \r\nL 309.718001 214.756364 \r\nL 312.792381 214.756364 \r\nL 315.866761 214.756364 \r\nL 318.941142 214.756364 \r\nL 322.015522 214.756364 \r\nL 325.089902 214.756364 \r\nL 328.164282 214.756364 \r\nL 331.238662 214.756364 \r\nL 334.313042 214.756364 \r\nL 337.387423 214.756364 \r\nL 340.461803 214.756364 \r\nL 343.536183 214.756364 \r\nL 346.610563 214.756364 \r\nL 349.684943 214.756364 \r\n\" style=\"fill:none;stroke:#1f77b4;stroke-linecap:square;stroke-width:1.5;\"/>\r\n   </g>\r\n   <g id=\"patch_3\">\r\n    <path d=\"M 30.103125 224.64 \r\nL 30.103125 7.2 \r\n\" style=\"fill:none;stroke:#000000;stroke-linecap:square;stroke-linejoin:miter;stroke-width:0.8;\"/>\r\n   </g>\r\n   <g id=\"patch_4\">\r\n    <path d=\"M 364.903125 224.64 \r\nL 364.903125 7.2 \r\n\" style=\"fill:none;stroke:#000000;stroke-linecap:square;stroke-linejoin:miter;stroke-width:0.8;\"/>\r\n   </g>\r\n   <g id=\"patch_5\">\r\n    <path d=\"M 30.103125 224.64 \r\nL 364.903125 224.64 \r\n\" style=\"fill:none;stroke:#000000;stroke-linecap:square;stroke-linejoin:miter;stroke-width:0.8;\"/>\r\n   </g>\r\n   <g id=\"patch_6\">\r\n    <path d=\"M 30.103125 7.2 \r\nL 364.903125 7.2 \r\n\" style=\"fill:none;stroke:#000000;stroke-linecap:square;stroke-linejoin:miter;stroke-width:0.8;\"/>\r\n   </g>\r\n  </g>\r\n </g>\r\n <defs>\r\n  <clipPath id=\"p945556987d\">\r\n   <rect height=\"217.44\" width=\"334.8\" x=\"30.103125\" y=\"7.2\"/>\r\n  </clipPath>\r\n </defs>\r\n</svg>\r\n",
      "image/png": "[encoded data removed]"
     },
     "metadata": {
      "needs_background": "light"
     }
    },
    {
     "output_type": "stream",
     "name": "stdout",
     "text": "A normal continuous random variable.\n\n    The location (``loc``) keyword specifies the mean.\n    The scale (``scale``) keyword specifies the standard deviation.\n\n    As an instance of the `rv_continuous` class, `norm` object inherits from it\n    a collection of generic methods (see below for the full list),\n    and completes them with details specific for this particular distribution.\n    \n    Methods\n    -------\n    rvs(loc=0, scale=1, size=1, random_state=None)\n        Random variates.\n    pdf(x, loc=0, scale=1)\n        Probability density function.\n    logpdf(x, loc=0, scale=1)\n        Log of the probability density function.\n    cdf(x, loc=0, scale=1)\n        Cumulative distribution function.\n    logcdf(x, loc=0, scale=1)\n        Log of the cumulative distribution function.\n    sf(x, loc=0, scale=1)\n        Survival function  (also defined as ``1 - cdf``, but `sf` is sometimes more accurate).\n    logsf(x, loc=0, scale=1)\n        Log of the survival function.\n    ppf(q, loc=0, scale=1)\n        Percent point function (inverse of ``cdf`` --- percentiles).\n    isf(q, loc=0, scale=1)\n        Inverse survival function (inverse of ``sf``).\n    moment(n, loc=0, scale=1)\n        Non-central moment of order n\n    stats(loc=0, scale=1, moments='mv')\n        Mean('m'), variance('v'), skew('s'), and/or kurtosis('k').\n    entropy(loc=0, scale=1)\n        (Differential) entropy of the RV.\n    fit(data, loc=0, scale=1)\n        Parameter estimates for generic data.\n    expect(func, args=(), loc=0, scale=1, lb=None, ub=None, conditional=False, **kwds)\n        Expected value of a function (of one argument) with respect to the distribution.\n    median(loc=0, scale=1)\n        Median of the distribution.\n    mean(loc=0, scale=1)\n        Mean of the distribution.\n    var(loc=0, scale=1)\n        Variance of the distribution.\n    std(loc=0, scale=1)\n        Standard deviation of the distribution.\n    interval(alpha, loc=0, scale=1)\n        Endpoints of the range that contains alpha percent of the distribution\n\n    Notes\n    -----\n    The probability density function for `norm` is:\n\n    .. math::\n\n        f(x) = \\frac{\\exp(-x^2/2)}{\\sqrt{2\\pi}}\n\n    for a real number :math:`x`.\n\n    The probability density above is defined in the \"standardized\" form. To shift\n    and/or scale the distribution use the ``loc`` and ``scale`` parameters.\n    Specifically, ``norm.pdf(x, loc, scale)`` is identically\n    equivalent to ``norm.pdf(y) / scale`` with\n    ``y = (x - loc) / scale``.\n\n    Examples\n    --------\n    >>> from scipy.stats import norm\n    >>> import matplotlib.pyplot as plt\n    >>> fig, ax = plt.subplots(1, 1)\n    \n    Calculate a few first moments:\n    \n    \n    >>> mean, var, skew, kurt = norm.stats(moments='mvsk')\n    \n    Display the probability density function (``pdf``):\n    \n    >>> x = np.linspace(norm.ppf(0.01),\n    ...                 norm.ppf(0.99), 100)\n    >>> ax.plot(x, norm.pdf(x),\n    ...        'r-', lw=5, alpha=0.6, label='norm pdf')\n    \n    Alternatively, the distribution object can be called (as a function)\n    to fix the shape, location and scale parameters. This returns a \"frozen\"\n    RV object holding the given parameters fixed.\n    \n    Freeze the distribution and display the frozen ``pdf``:\n    \n    >>> rv = norm()\n    >>> ax.plot(x, rv.pdf(x), 'k-', lw=2, label='frozen pdf')\n    \n    Check accuracy of ``cdf`` and ``ppf``:\n    \n    >>> vals = norm.ppf([0.001, 0.5, 0.999])\n    >>> np.allclose([0.001, 0.5, 0.999], norm.cdf(vals))\n    True\n    \n    Generate random numbers:\n    \n    >>> r = norm.rvs(size=1000)\n    \n    And compare the histogram:\n    \n    >>> ax.hist(r, density=True, histtype='stepfilled', alpha=0.2)\n    >>> ax.legend(loc='best', frameon=False)\n    >>> plt.show()\n    \n\n    \n"
    }
   ],
   "source": [
    "x = np.linspace(-10, 10, 100)\n",
    "rv = scipy.stats.norm.pdf(x, loc=2, scale=0.5)\n",
    "plt.plot(x, rv)\n",
    "plt.show()\n",
    "print(scipy.stats.norm.__doc__)"
   ]
  },
  {
   "cell_type": "markdown",
   "metadata": {},
   "source": [
    "### References \n",
    "* Chapter 2, Chapter 9 and Chapter 12 from Bishop, C. (2006). Pattern Recognition and Machine Learning. Cambridge: Springer.\n",
    "* Chapter 5 from McNicholas, P.D. (2016). Mixture Model-Based Classification. Boca Raton: Chapman &\n",
    "Hall/CRC Press.\n",
    "* McLachlan, G., and  Krishnan T. (2008). The EM Algorithm and Extensions, Second Edition. New York: Wiley."
   ]
  }
 ],
 "metadata": {
  "language_info": {
   "codemirror_mode": {
    "name": "ipython",
    "version": 3
   },
   "file_extension": ".py",
   "mimetype": "text/x-python",
   "name": "python",
   "nbconvert_exporter": "python",
   "pygments_lexer": "ipython3",
   "version": "3.8.0-final"
  },
  "orig_nbformat": 2,
  "kernelspec": {
   "name": "python38064bitmyenv64venv0776e80e1d964a309141464fb4ff9d0d",
   "display_name": "Python 3.8.0 64-bit ('my_env64': venv)"
  }
 },
 "nbformat": 4,
 "nbformat_minor": 2
}