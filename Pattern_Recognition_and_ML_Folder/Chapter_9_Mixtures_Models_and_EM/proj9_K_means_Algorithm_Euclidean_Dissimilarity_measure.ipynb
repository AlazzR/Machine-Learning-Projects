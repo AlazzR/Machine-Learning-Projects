{
 "cells": [
  {
   "cell_type": "markdown",
   "metadata": {},
   "source": [
    "## K-Means Algorithm \n",
    "\n",
    "### Importance of the Similarity Measure\n",
    "\n",
    "### Convergence Test\n",
    "\n",
    "### Relationship of k-means with GMM\n",
    "\n",
    "### Predictions"
   ]
  },
  {
   "cell_type": "code",
   "execution_count": 16,
   "metadata": {},
   "outputs": [],
   "source": [
    "%matplotlib inline\n",
    "import numpy as np \n",
    "import sklearn.preprocessing\n",
    "import sklearn.datasets\n",
    "import pandas as pd\n",
    "import sklearn.model_selection\n",
    "import numpy.random\n",
    "import math\n",
    "import sklearn.metrics\n",
    "numpy.random.seed(42)"
   ]
  },
  {
   "cell_type": "code",
   "execution_count": 17,
   "metadata": {
    "tags": []
   },
   "outputs": [
    {
     "output_type": "stream",
     "name": "stdout",
     "text": "(112, 5)\n(38, 5)\n"
    },
    {
     "output_type": "execute_result",
     "data": {
      "text/plain": "array([0, 0, 2, 1, 1, 0, 0, 1, 2, 2, 1, 2, 1, 2, 1, 0, 2, 1, 0, 0, 0, 1,\n       2, 0, 0, 0, 1, 0, 1, 2, 0, 1, 2, 0, 2, 2, 1, 1, 2, 1, 0, 1, 2, 0,\n       0, 1, 1, 0, 2, 0, 0, 1, 1, 2, 1, 2, 2, 1, 0, 0, 2, 2, 0, 0, 0, 1,\n       2, 0, 2, 2, 0, 1, 1, 2, 1, 2, 0, 2, 1, 2, 1, 1, 1, 0, 1, 1, 0, 1,\n       2, 2, 0, 1, 2, 2, 0, 2, 0, 1, 2, 2, 1, 2, 1, 1, 2, 2, 0, 1, 2, 0,\n       1, 2])"
     },
     "metadata": {},
     "execution_count": 17
    }
   ],
   "source": [
    "X, y = sklearn.datasets.load_iris(return_X_y=True)\n",
    "#X, y = sklearn.datasets.load_wine(return_X_y=True)\n",
    "\n",
    "X_train, X_test, y_train, y_test = sklearn.model_selection.train_test_split(X, y, random_state=42)\n",
    "standard = sklearn.preprocessing.StandardScaler()\n",
    "X_train = standard.fit_transform(X_train)\n",
    "training_data = np.c_[X_train, y_train]#All of the features are continuous, so, no need to use one-hot encoder and we can directly standard normalize the features of the data set\n",
    "\n",
    "X_test = standard.transform(X_test)\n",
    "test_data = np.c_[X_test, y_test]\n",
    "print(training_data.shape)\n",
    "print(test_data.shape)\n",
    "k = len(set(y_train))\n",
    "y_train#It needs to be labeled from 0 to k\n"
   ]
  },
  {
   "cell_type": "code",
   "execution_count": 18,
   "metadata": {},
   "outputs": [],
   "source": [
    "class kmeans(object):\n",
    "\n",
    "    def __init__(self, X_train, k):\n",
    "        self.K = k\n",
    "        self.m = X_train.shape[0]\n",
    "        self.n = X_train.shape[1]\n",
    "        self.X_train = X_train\n",
    "        choices = numpy.random.choice(np.arange(0, self.m), self.K, replace=False)\n",
    "        self.centers = [X_train[choices[i], :].reshape(-1, 1) for i in range(0, self.K)]# initalize the clusters centers to be one of the observations\n",
    "        self.clusters_assignments = np.zeros((self.m, 1))#Just to give it the necessary shape\n",
    "    \n",
    "    def reassign_clusters_centers(self):\n",
    "        for k in range(0, self.K):\n",
    "            temp = np.zeros((self.n, 1))\n",
    "            clusters = list(map(lambda i: True if i == k else False, self.clusters_assignments))\n",
    "            #for i in range(0, self.m):\n",
    "                #if clusters[i] == True:\n",
    "                    #temp += clusters[i] * self.X_train[i, :].reshape(-1, 1)#clusters contained in {0, 1}\n",
    "                #else:\n",
    "                    #pass\n",
    "            clusters = np.array([clusters]*self.n)\n",
    "            temp = np.sum( clusters.T *1 *self.X_train, axis=0)\n",
    "            #print(np.sum(clusters))\n",
    "            self.centers[k] = temp/(np.sum(clusters) + 1)\n",
    "\n",
    "    def distortiuon_function(self):\n",
    "        temp = 0\n",
    "        for i in range(0, self.m):\n",
    "            for k in range(0, self.K):\n",
    "                if self.clusters_assignments[i] == k:\n",
    "                    temp += np.linalg.norm(self.X_train[i, :].reshape(-1, 1) - self.centers[k].reshape(-1, 1))**2\n",
    "                    break#They willn't be assigned to more than one cluster in tandem\n",
    "        return temp\n",
    "\n",
    "    def assign_to_clusters(self, x):\n",
    "        temp = []\n",
    "        for k in range(0, self.K):\n",
    "            temp.append(np.linalg.norm(x.reshape(-1, 1) - self.centers[k].reshape(-1, 1))**2)#We will use L2-norm for dissimilarity measure\n",
    "        return np.argmin(temp)#return the cluster number\n",
    "\n",
    "    def E_step(self):\n",
    "        for i in range(0, self.m):\n",
    "            self.clusters_assignments[i] = self.assign_to_clusters(self.X_train[i, :].reshape(-1, 1))\n",
    "    \n",
    "    def fit(self, max_iterations, eps=1e-5):\n",
    "        self.E_step()#To initialize the clusters assignments\n",
    "        past = 10\n",
    "        future = 0\n",
    "        count = 0\n",
    "        while(abs(past - future) > eps):#I will care for only lack of progress because k-means will always be able to minimize the distortion functions\n",
    "            print(f\"count:{count}, max_iterations{max_iterations}, past:{past}, future:{future}\")\n",
    "            count += 1\n",
    "            past = self.distortiuon_function()\n",
    "            self.reassign_clusters_centers()#The M step\n",
    "            self.E_step()\n",
    "            future = self.distortiuon_function()\n",
    "\n",
    "        return self.centers, self.clusters_assignments\n",
    "\n",
    "    def prediction_dataset(self, X):\n",
    "        predictions = []\n",
    "        for i in range(0, X.shape[0]):\n",
    "            predictions.append(self.assign_to_clusters(X[i, :].reshape(-1, 1)))\n",
    "        return predictions\n",
    "\n",
    "    def predict(self, x):\n",
    "        return  self.assign_to_clusters(x.reshape(-1, 1))\n",
    "\n"
   ]
  },
  {
   "cell_type": "code",
   "execution_count": 24,
   "metadata": {
    "tags": []
   },
   "outputs": [
    {
     "output_type": "stream",
     "name": "stdout",
     "text": "count:0, max_iterations1000, past:10, future:0\ncount:1, max_iterations1000, past:197.34020393182593, future:317.2190907121861\ncount:2, max_iterations1000, past:317.2190907121861, future:312.67840672555525\ncount:3, max_iterations1000, past:312.67840672555525, future:303.49303093005165\ncount:4, max_iterations1000, past:303.49303093005165, future:301.41359418115564\ncount:5, max_iterations1000, past:301.41359418115564, future:301.68071435289903\n"
    }
   ],
   "source": [
    "model = kmeans(X_train, k)\n",
    "centers, clusters  = model.fit(1000)"
   ]
  },
  {
   "cell_type": "code",
   "execution_count": 25,
   "metadata": {},
   "outputs": [],
   "source": [
    "pred = model.prediction_dataset(X_train)\n",
    "#centers"
   ]
  },
  {
   "cell_type": "code",
   "execution_count": 26,
   "metadata": {
    "tags": []
   },
   "outputs": [
    {
     "output_type": "stream",
     "name": "stdout",
     "text": "Performance on the training set\n"
    },
    {
     "output_type": "execute_result",
     "data": {
      "text/plain": "array([[35,  0,  0],\n       [ 0, 22, 17],\n       [ 0,  3, 35]], dtype=int64)"
     },
     "metadata": {},
     "execution_count": 26
    }
   ],
   "source": [
    "pred = model.prediction_dataset(X_train)\n",
    "print(\"Performance on the training set\")\n",
    "#print(sklearn.metrics.confusion_matrix(y_train, pred))\n",
    "c = sklearn.metrics.confusion_matrix(y_train, pred)\n",
    "c[:, list(np.argmax(c, axis=1))]#ordering the cluster to where it shows the highest number of matching with the true labels"
   ]
  },
  {
   "cell_type": "code",
   "execution_count": 27,
   "metadata": {
    "tags": []
   },
   "outputs": [
    {
     "output_type": "stream",
     "name": "stdout",
     "text": "Performance on the test set\n"
    },
    {
     "output_type": "execute_result",
     "data": {
      "text/plain": "array([[15,  0,  0],\n       [ 0,  6,  6],\n       [ 0, 12, 12]], dtype=int64)"
     },
     "metadata": {},
     "execution_count": 27
    }
   ],
   "source": [
    "pred = model.prediction_dataset(X_test)\n",
    "print(\"Performance on the test set\")\n",
    "#print(sklearn.metrics.confusion_matrix(y_test, pred))\n",
    "c = sklearn.metrics.confusion_matrix(y_test, pred)\n",
    "c[:, list(np.argmax(c, axis=1))]#ordering the cluster to where it shows the highest number of matching with the true labels"
   ]
  },
  {
   "cell_type": "code",
   "execution_count": 29,
   "metadata": {
    "tags": []
   },
   "outputs": [
    {
     "output_type": "stream",
     "name": "stdout",
     "text": "Performance on the train set\n"
    },
    {
     "output_type": "execute_result",
     "data": {
      "text/plain": "array([[35,  0,  0],\n       [ 0, 32,  7],\n       [ 0, 14, 24]], dtype=int64)"
     },
     "metadata": {},
     "execution_count": 29
    }
   ],
   "source": [
    "import sklearn.cluster\n",
    "model = sklearn.cluster.KMeans(n_clusters=3, max_iter=2000)\n",
    "model.fit(X_train)\n",
    "pred = model.predict(X_train)\n",
    "print(\"Performance on the train set\")\n",
    "#print(sklearn.metrics.confusion_matrix(y_test, pred))\n",
    "c = sklearn.metrics.confusion_matrix(y_train, pred)\n",
    "c[:, list(np.argmax(c, axis=1))]#ordering the cluster to where it shows the highest number of matching with the true labels"
   ]
  },
  {
   "cell_type": "code",
   "execution_count": 30,
   "metadata": {},
   "outputs": [
    {
     "output_type": "execute_result",
     "data": {
      "text/plain": "array([ 5,  7,  9, 11])"
     },
     "metadata": {},
     "execution_count": 30
    }
   ],
   "source": [
    "a = np.array([[1, 2, 3,4], [4, 5, 6, 7]])\n",
    "np.sum(a, axis=0)"
   ]
  },
  {
   "cell_type": "markdown",
   "metadata": {},
   "source": [
    "### References \n",
    "* Chapter 1, chapter 2 and Chapter 9 from Bishop, C. (2006). Pattern Recognition and Machine Learning. Cambridge: Springer.\n",
    "* Andrew Ng, Lec 12: (https://www.youtube.com/watch?v=ZZGTuAkF-Hw)\n",
    "\n"
   ]
  }
 ],
 "metadata": {
  "language_info": {
   "codemirror_mode": {
    "name": "ipython",
    "version": 3
   },
   "file_extension": ".py",
   "mimetype": "text/x-python",
   "name": "python",
   "nbconvert_exporter": "python",
   "pygments_lexer": "ipython3",
   "version": "3.8.0-final"
  },
  "orig_nbformat": 2,
  "kernelspec": {
   "name": "python38064bitmyenv64venv0776e80e1d964a309141464fb4ff9d0d",
   "display_name": "Python 3.8.0 64-bit ('my_env64': venv)"
  }
 },
 "nbformat": 4,
 "nbformat_minor": 2
}